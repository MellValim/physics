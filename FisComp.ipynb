{
  "nbformat": 4,
  "nbformat_minor": 0,
  "metadata": {
    "colab": {
      "provenance": [],
      "toc_visible": true,
      "authorship_tag": "ABX9TyOz+2xWWtBBSDX9BWPglDJT",
      "include_colab_link": true
    },
    "kernelspec": {
      "name": "python3",
      "display_name": "Python 3"
    },
    "language_info": {
      "name": "python"
    }
  },
  "cells": [
    {
      "cell_type": "markdown",
      "metadata": {
        "id": "view-in-github",
        "colab_type": "text"
      },
      "source": [
        "<a href=\"https://colab.research.google.com/github/MellValim/physics/blob/main/FisComp.ipynb\" target=\"_parent\"><img src=\"https://colab.research.google.com/assets/colab-badge.svg\" alt=\"Open In Colab\"/></a>"
      ]
    },
    {
      "cell_type": "markdown",
      "source": [
        "## Atividades de sala ⚛️"
      ],
      "metadata": {
        "id": "M87tlRJ9q1zf"
      }
    },
    {
      "cell_type": "markdown",
      "source": [
        "**Exercício 1:**"
      ],
      "metadata": {
        "id": "VW5PhXfpdRKi"
      }
    },
    {
      "cell_type": "code",
      "source": [
        "\n",
        "def segundos_para_hhmmss(tempo_em_segundos, verbose=False):\n",
        "\n",
        "    tempo_em_segundos = int(6000)\n",
        "    hh = tempo_em_segundos // 3600\n",
        "    mm = (tempo_em_segundos % 3600) // 60\n",
        "    ss = tempo_em_segundos % 60\n",
        "\n",
        "    if verbose:\n",
        "        print(f\"{hh}: {mm}: {ss}\")\n",
        "\n",
        "    return\n",
        "segundos_para_hhmmss (tempo_em_segundos, verbose=True)"
      ],
      "metadata": {
        "id": "0gItLqlkhhBl",
        "colab": {
          "base_uri": "https://localhost:8080/"
        },
        "outputId": "95084afb-48ce-4855-812d-c9f222517add"
      },
      "execution_count": null,
      "outputs": [
        {
          "output_type": "stream",
          "name": "stdout",
          "text": [
            "1: 40: 0\n"
          ]
        }
      ]
    },
    {
      "cell_type": "markdown",
      "source": [
        "**Exercício 2**"
      ],
      "metadata": {
        "id": "H_rAIkVj6x-9"
      }
    },
    {
      "cell_type": "code",
      "source": [
        "#Converter coodenadas cartesianas para polares\n",
        "import numpy as np\n",
        "\n",
        "r = (x, y)\n",
        "\n",
        "def cartesianas_para_polares(r):\n",
        "  rho = np.sqrt(x**2 + y**2)\n",
        "  phi = np.arctan2(x, y)\n",
        "  return (rho, phi)\n",
        "\n",
        "cartesianas_para_polares (r)"
      ],
      "metadata": {
        "colab": {
          "base_uri": "https://localhost:8080/"
        },
        "id": "BM7yJJF-7R3Q",
        "outputId": "0421cfff-a674-4ec9-d2d4-da477a1e4ac7"
      },
      "execution_count": null,
      "outputs": [
        {
          "output_type": "execute_result",
          "data": {
            "text/plain": [
              "(1.4142135623730951, 0.7853981633974483)"
            ]
          },
          "metadata": {},
          "execution_count": 50
        }
      ]
    },
    {
      "cell_type": "markdown",
      "source": [
        "**Exercício 3**"
      ],
      "metadata": {
        "id": "3YYS60nohe5m"
      }
    },
    {
      "cell_type": "code",
      "source": [
        "#Tempo que a espaçonave leva para chegar na terra em m/s\n",
        "\n",
        "import numpy as np\n",
        "\n",
        "def spacecraft_time(space, velocity):\n",
        "    c = 299792458\n",
        "    lorentz_factor = np.sqrt(1 - (velocity**2/c**2))\n",
        "\n",
        "    time_1 = space/velocity*lorentz_factor\n",
        "    return time_1\n",
        "\n",
        "\n",
        "space = 400000000\n",
        "velocity = 269000000\n",
        "time = spacecraft_time(space, velocity)\n",
        "print(time)"
      ],
      "metadata": {
        "colab": {
          "base_uri": "https://localhost:8080/"
        },
        "id": "6coImSsyfKM_",
        "outputId": "3a3637f4-baac-444e-e5b7-5c46f331d814"
      },
      "execution_count": null,
      "outputs": [
        {
          "output_type": "stream",
          "name": "stdout",
          "text": [
            "0.6564264948585953\n"
          ]
        }
      ]
    },
    {
      "cell_type": "markdown",
      "source": [
        "**AULA 2**: exercício 1"
      ],
      "metadata": {
        "id": "BhAYDQh9c-ps"
      }
    },
    {
      "cell_type": "code",
      "source": [
        "#Potenciam em função da frequencia\n",
        "\n",
        "import numpy as np\n",
        "import matplotlib.pyplot as plt\n",
        "from scipy stats import linregress\n",
        "\n",
        "\n",
        "dados = np.loadtxt (\"millikan\")\n",
        "frequencia = [:,0]\n",
        "potencial = [:,1]\n",
        "\n",
        "plt.scatter(frequencia, potencial, color='blue', label=\"Dados experimentais\", marker='o')\n",
        "plt.xlabel(\"Frequência (\\mi)\")\n",
        "plt.ylabel(\"Potencial (V)\")\n",
        "plt.title(\"Gráfico de V em função de ν\")\n",
        "plt.legend()\n",
        "plt.grid(True)\n",
        "\n",
        "plt.legend()\n",
        "plt.show()\n",
        "\n"
      ],
      "metadata": {
        "id": "YX1JWMLjdDXF"
      },
      "execution_count": null,
      "outputs": []
    },
    {
      "cell_type": "markdown",
      "source": [
        "# Homework"
      ],
      "metadata": {
        "id": "ysixlUWnqti6"
      }
    },
    {
      "cell_type": "markdown",
      "source": [
        "**Atividade 1:** faça uma função chamada fatorial que recebe um parâmetro n e calcula n! usando um loop tipo for"
      ],
      "metadata": {
        "id": "JNZN07_9vqZV"
      }
    },
    {
      "cell_type": "code",
      "source": [
        "import numpy as np\n",
        "\n",
        "def fatorial(n):\n",
        "\n",
        "    x = 1\n",
        "    for i in range(1, n + 1):\n",
        "        x *= i\n",
        "\n",
        "    return x\n",
        "\n",
        "f10 = fatorial(10)\n",
        "print(f'O fatorial de 10 é {f10}')\n",
        "\n",
        "f0 = fatorial(0)\n",
        "print('O fatorial de 0 é', f0)\n"
      ],
      "metadata": {
        "colab": {
          "base_uri": "https://localhost:8080/"
        },
        "id": "7QRFWXl_v370",
        "outputId": "e26045df-4b68-4109-9ccb-376a344e92a4"
      },
      "execution_count": null,
      "outputs": [
        {
          "output_type": "stream",
          "name": "stdout",
          "text": [
            "O fatorial de 10 é 3628800\n",
            "O fatorial de 0 é 1\n"
          ]
        }
      ]
    },
    {
      "cell_type": "code",
      "source": [],
      "metadata": {
        "id": "-BijeC4zwn49"
      },
      "execution_count": null,
      "outputs": []
    },
    {
      "cell_type": "markdown",
      "source": [
        "**Atividade 2:** Aplicar numpy e matplot lib"
      ],
      "metadata": {
        "id": "5d3liKTkmuC2"
      }
    },
    {
      "cell_type": "code",
      "source": [
        "#1: importar as bibliotecas necessárias\n",
        "import numpy as np\n",
        "import matplotlib.pyplot as plt\n",
        "\n",
        "#2: definir uma função que gere a gaussinada para valores específicos de a, b e x. Na física é mais comum representar gaussiana como funções de densidade de probabilidade\n",
        "def gaussiana(x, mu, sigma):\n",
        "    return ((1 / (sigma * np.sqrt(2 * np.pi))) * np.exp(-0.5 * ((x - mu) / sigma) ** 2))\n",
        "    #a fórmula acima é a de uma função de distribuição gaussiana\n",
        "\n",
        "#3: definir valores para a média e o desvio padrão\n",
        "mu = 0\n",
        "sigma = 1\n",
        "\n",
        "#intervalo dos eixos\n",
        "x = np.linspace (-5, 5, 1000)\n",
        "y = gaussiana(x, mu, sigma)\n",
        "\n",
        "# Plotando a Gaussiana\n",
        "plt.plot(x, y, label=f'$\\mu={mu}$, $\\sigma={sigma}$')\n",
        "plt.xlabel('x') #legenda do eixo x\n",
        "plt.ylabel('f(x)') #legenda do eixo y\n",
        "plt.title('Distribuição Gaussiana') #título do gráfico\n",
        "plt.legend() #legenda\n",
        "plt.grid() #grade\n",
        "plt.show() #exibir\n"
      ],
      "metadata": {
        "colab": {
          "base_uri": "https://localhost:8080/",
          "height": 472
        },
        "id": "ky3ZZFsQm4sd",
        "outputId": "4da1df83-bacc-4b16-fdd6-324458f5cbf1"
      },
      "execution_count": 9,
      "outputs": [
        {
          "output_type": "display_data",
          "data": {
            "text/plain": [
              "<Figure size 640x480 with 1 Axes>"
            ],
            "image/png": "[encoded data removed]"
          },
          "metadata": {}
        }
      ]
    },
    {
      "cell_type": "code",
      "source": [],
      "metadata": {
        "id": "4x49kNwMtaA2"
      },
      "execution_count": null,
      "outputs": []
    }
  ]
}